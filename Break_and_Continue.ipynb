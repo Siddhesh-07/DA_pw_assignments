{
  "nbformat": 4,
  "nbformat_minor": 0,
  "metadata": {
    "colab": {
      "provenance": [],
      "authorship_tag": "ABX9TyO4Y6S9i+v4LCFpo5pQw/JU",
      "include_colab_link": true
    },
    "kernelspec": {
      "name": "python3",
      "display_name": "Python 3"
    },
    "language_info": {
      "name": "python"
    }
  },
  "cells": [
    {
      "cell_type": "markdown",
      "metadata": {
        "id": "view-in-github",
        "colab_type": "text"
      },
      "source": [
        "<a href=\"https://colab.research.google.com/github/Siddhesh-07/DA_pw_assignments/blob/main/Break_and_Continue.ipynb\" target=\"_parent\"><img src=\"https://colab.research.google.com/assets/colab-badge.svg\" alt=\"Open In Colab\"/></a>"
      ]
    },
    {
      "cell_type": "markdown",
      "source": [
        "1.  Write a program to print numbers from 1 to 10, but stop if the number is 5."
      ],
      "metadata": {
        "id": "P2-b622q1G6k"
      }
    },
    {
      "cell_type": "code",
      "execution_count": null,
      "metadata": {
        "colab": {
          "base_uri": "https://localhost:8080/"
        },
        "id": "idWwfyd20tWt",
        "outputId": "fb105822-3c2d-40e0-f7bb-1b2259a8e0e6"
      },
      "outputs": [
        {
          "output_type": "stream",
          "name": "stdout",
          "text": [
            "1\n",
            "2\n",
            "3\n",
            "4\n"
          ]
        }
      ],
      "source": [
        "for i in range(1,10):\n",
        "  if i == 5:\n",
        "    break;\n",
        "  print(i)"
      ]
    },
    {
      "cell_type": "markdown",
      "source": [
        "2.  Write a program to iterate through a list and stop when encountering a specific element."
      ],
      "metadata": {
        "id": "UB0XjnYf1p0k"
      }
    },
    {
      "cell_type": "code",
      "source": [
        "ls = ['India','Portugal','Japan','Pakistan','USA']\n",
        "for i in ls:\n",
        "  if i == 'Pakistan':\n",
        "    break;\n",
        "  print(i)"
      ],
      "metadata": {
        "colab": {
          "base_uri": "https://localhost:8080/"
        },
        "id": "k79YEMQ61nnR",
        "outputId": "cfcf525c-37a5-4cde-cfdc-ca6ba35d04b3"
      },
      "execution_count": null,
      "outputs": [
        {
          "output_type": "stream",
          "name": "stdout",
          "text": [
            "India\n",
            "Portugal\n",
            "Japan\n"
          ]
        }
      ]
    },
    {
      "cell_type": "markdown",
      "source": [
        "3.  Write a program to skip printing even numbers from  to 0 to 10."
      ],
      "metadata": {
        "id": "nvd5w_0E2p_i"
      }
    },
    {
      "cell_type": "code",
      "source": [
        "for i in range(1,11):\n",
        "  if i % 2 == 0:\n",
        "    continue;\n",
        "  print(i)"
      ],
      "metadata": {
        "colab": {
          "base_uri": "https://localhost:8080/"
        },
        "id": "T0J6WKqK2lYh",
        "outputId": "f5633f81-907d-48ed-ee9f-5a5dfc51adee"
      },
      "execution_count": null,
      "outputs": [
        {
          "output_type": "stream",
          "name": "stdout",
          "text": [
            "1\n",
            "3\n",
            "5\n",
            "7\n",
            "9\n"
          ]
        }
      ]
    },
    {
      "cell_type": "markdown",
      "source": [
        "4. Write a program to print numbers from 0 to 9 using range()."
      ],
      "metadata": {
        "id": "KD0VOsfs3FtG"
      }
    },
    {
      "cell_type": "code",
      "source": [
        "for i in range(0,10):\n",
        "  print(i)"
      ],
      "metadata": {
        "colab": {
          "base_uri": "https://localhost:8080/"
        },
        "id": "v6RiD_fC3DWu",
        "outputId": "8fc938a5-7809-4e38-f8b4-3ebc6cdc3ca4"
      },
      "execution_count": null,
      "outputs": [
        {
          "output_type": "stream",
          "name": "stdout",
          "text": [
            "0\n",
            "1\n",
            "2\n",
            "3\n",
            "4\n",
            "5\n",
            "6\n",
            "7\n",
            "8\n",
            "9\n"
          ]
        }
      ]
    },
    {
      "cell_type": "markdown",
      "source": [
        "5.  Write a program to print multiplication tables from 1 to 5, but stop after the first table is printed for each\n",
        "number.\n",
        "\n",
        "---\n",
        "\n"
      ],
      "metadata": {
        "id": "UdVVi5Jf3baJ"
      }
    },
    {
      "cell_type": "code",
      "source": [
        "for i in range(1,6):\n",
        "  for j in range(1,11):\n",
        "    if j == 2:\n",
        "      break;\n",
        "    result = i*j\n",
        "    print(f'{i} x {j} = {result}')\n",
        "  print()"
      ],
      "metadata": {
        "colab": {
          "base_uri": "https://localhost:8080/"
        },
        "id": "5lgwcTD-3Ztr",
        "outputId": "b1f187a9-514a-4028-d3f0-298eaa724d17"
      },
      "execution_count": null,
      "outputs": [
        {
          "output_type": "stream",
          "name": "stdout",
          "text": [
            "1 x 1 = 1\n",
            "\n",
            "2 x 1 = 2\n",
            "\n",
            "3 x 1 = 3\n",
            "\n",
            "4 x 1 = 4\n",
            "\n",
            "5 x 1 = 5\n",
            "\n"
          ]
        }
      ]
    },
    {
      "cell_type": "markdown",
      "source": [
        "6. Write a program to skip printing even numbers using a while loop."
      ],
      "metadata": {
        "id": "qzhVjIsZ5IBX"
      }
    },
    {
      "cell_type": "code",
      "source": [
        "i = 0\n",
        "while i < 20:\n",
        "  if i % 2 != 0:\n",
        "    i += 1\n",
        "    continue;\n",
        "  i += 1\n",
        "  print(i)"
      ],
      "metadata": {
        "colab": {
          "base_uri": "https://localhost:8080/"
        },
        "id": "j8-mQxPe61Og",
        "outputId": "8ac6adf1-5bb8-4cef-cd07-4ac7f6977a54"
      },
      "execution_count": null,
      "outputs": [
        {
          "output_type": "stream",
          "name": "stdout",
          "text": [
            "1\n",
            "3\n",
            "5\n",
            "7\n",
            "9\n",
            "11\n",
            "13\n",
            "15\n",
            "17\n",
            "19\n"
          ]
        }
      ]
    },
    {
      "cell_type": "code",
      "source": [],
      "metadata": {
        "id": "O55JyaxX7ehZ"
      },
      "execution_count": null,
      "outputs": []
    }
  ]
}
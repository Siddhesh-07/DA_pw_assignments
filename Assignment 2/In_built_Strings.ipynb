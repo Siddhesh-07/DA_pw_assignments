{
  "nbformat": 4,
  "nbformat_minor": 0,
  "metadata": {
    "colab": {
      "provenance": []
    },
    "kernelspec": {
      "name": "python3",
      "display_name": "Python 3"
    },
    "language_info": {
      "name": "python"
    }
  },
  "cells": [
    {
      "cell_type": "markdown",
      "source": [
        "**1. What is the purpose of the len() function in Python, and how can it be used with strings?**"
      ],
      "metadata": {
        "id": "RtKz1dYrFfCX"
      }
    },
    {
      "cell_type": "markdown",
      "source": [
        "The purpose of the len() function in Python is to determine the length of a sequence, such as a string, list, tuple, or dictionary. It returns the number of items in the sequence.\n",
        "\n",
        "When used with strings, the len() function counts the number of characters in the string, including spaces and special characters"
      ],
      "metadata": {
        "id": "LkkrsgytFfJ3"
      }
    },
    {
      "cell_type": "code",
      "source": [
        "s = 'India'\n",
        "len(s)"
      ],
      "metadata": {
        "colab": {
          "base_uri": "https://localhost:8080/"
        },
        "id": "rMQGRwpdGDot",
        "outputId": "cc0cfc5c-60de-4202-c3c2-85e10575b9df"
      },
      "execution_count": 1,
      "outputs": [
        {
          "output_type": "execute_result",
          "data": {
            "text/plain": [
              "5"
            ]
          },
          "metadata": {},
          "execution_count": 1
        }
      ]
    },
    {
      "cell_type": "markdown",
      "source": [
        "**2. How can you concatenate two or more strings in Python, and can you provide an example of string concatenation?**"
      ],
      "metadata": {
        "id": "zDUHKHbZFfQ4"
      }
    },
    {
      "cell_type": "markdown",
      "source": [
        "\n",
        "In Python, you can concatenate two or more strings using the + operator or the += augmented assignment operator. When you use the + operator between two strings, it combines them into a single string. Similarly, the += operator appends the second string to the first string, modifying the first string in place."
      ],
      "metadata": {
        "id": "70ngsqfnFfXm"
      }
    },
    {
      "cell_type": "code",
      "source": [
        "a = 'PW'\n",
        "b = ' Skills'\n",
        "a+b"
      ],
      "metadata": {
        "colab": {
          "base_uri": "https://localhost:8080/",
          "height": 35
        },
        "id": "3ior1gbMGavC",
        "outputId": "11abb77b-d7b5-4e5c-c87e-55ad9b20e70a"
      },
      "execution_count": 3,
      "outputs": [
        {
          "output_type": "execute_result",
          "data": {
            "text/plain": [
              "'PW Skills'"
            ],
            "application/vnd.google.colaboratory.intrinsic+json": {
              "type": "string"
            }
          },
          "metadata": {},
          "execution_count": 3
        }
      ]
    },
    {
      "cell_type": "markdown",
      "source": [
        "**3. What is string slicing in Python, and how can you extract a portion of a string using this method?**"
      ],
      "metadata": {
        "id": "r5SZScVxFfd7"
      }
    },
    {
      "cell_type": "markdown",
      "source": [
        "\n",
        "String slicing in Python refers to the process of extracting a substring from a larger string by specifying a range of indices. It allows you to retrieve a portion of a string based on its position within the original string."
      ],
      "metadata": {
        "id": "GdRepUeAFkpD"
      }
    },
    {
      "cell_type": "code",
      "source": [
        "x = 'Data Science'\n",
        "x[0:4]"
      ],
      "metadata": {
        "colab": {
          "base_uri": "https://localhost:8080/",
          "height": 35
        },
        "id": "jV7_e0GqG00V",
        "outputId": "a477ccf4-8425-4a70-c65f-7339114154c7"
      },
      "execution_count": 6,
      "outputs": [
        {
          "output_type": "execute_result",
          "data": {
            "text/plain": [
              "'Data'"
            ],
            "application/vnd.google.colaboratory.intrinsic+json": {
              "type": "string"
            }
          },
          "metadata": {},
          "execution_count": 6
        }
      ]
    },
    {
      "cell_type": "markdown",
      "source": [
        "**4. How can you change the case of a string in Python, and can you provide examples of both making a string all uppercase and all lowercase?**"
      ],
      "metadata": {
        "id": "Lpdp-ORYFkbC"
      }
    },
    {
      "cell_type": "markdown",
      "source": [
        "The upper() method converts all characters in a string to uppercase.\n",
        "The lower() method converts all characters in a string to lowercase."
      ],
      "metadata": {
        "id": "1nsueGZrFfkC"
      }
    },
    {
      "cell_type": "code",
      "source": [
        "print(x.upper())\n",
        "print(x.lower())"
      ],
      "metadata": {
        "colab": {
          "base_uri": "https://localhost:8080/"
        },
        "id": "xp4FiGopHfrB",
        "outputId": "f4bd9539-c2a8-4002-e702-94fbe39b72cb"
      },
      "execution_count": 7,
      "outputs": [
        {
          "output_type": "stream",
          "name": "stdout",
          "text": [
            "DATA SCIENCE\n",
            "data science\n"
          ]
        }
      ]
    },
    {
      "cell_type": "markdown",
      "source": [
        "**5. What does the split() method do in Python, and how can you split a string using a specific delimiter?**"
      ],
      "metadata": {
        "id": "EwBYLLdfFfqa"
      }
    },
    {
      "cell_type": "markdown",
      "source": [
        "**The split() method is used to split a string into a list of substrings based on a specified delimiter. By default, if no delimiter is provided, it splits the string based on whitespace characters**"
      ],
      "metadata": {
        "id": "qG8g8cY1Fghx"
      }
    },
    {
      "cell_type": "code",
      "source": [
        "sr = \"Data Scientist, ML Engineer, Data Analyst, Data Engineer\"\n",
        "sr.split(',')"
      ],
      "metadata": {
        "colab": {
          "base_uri": "https://localhost:8080/"
        },
        "id": "B3lXkbYeH684",
        "outputId": "720d8425-9891-4fbb-abc3-f86c3e645cc4"
      },
      "execution_count": 10,
      "outputs": [
        {
          "output_type": "execute_result",
          "data": {
            "text/plain": [
              "['Data Scientist', ' ML Engineer', ' Data Analyst', ' Data Engineer']"
            ]
          },
          "metadata": {},
          "execution_count": 10
        }
      ]
    }
  ]
}